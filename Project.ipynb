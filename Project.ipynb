{
 "cells": [
  {
   "cell_type": "code",
   "execution_count": 105,
   "id": "742005e7",
   "metadata": {},
   "outputs": [
    {
     "name": "stdout",
     "output_type": "stream",
     "text": [
      "root\n",
      " |-- movieId: integer (nullable = true)\n",
      " |-- title: string (nullable = true)\n",
      " |-- genres: string (nullable = true)\n",
      "\n",
      "root\n",
      " |-- userId: integer (nullable = true)\n",
      " |-- movieId: integer (nullable = true)\n",
      " |-- rating: double (nullable = true)\n",
      " |-- timestamp: integer (nullable = true)\n",
      "\n",
      "root\n",
      " |-- userId: integer (nullable = true)\n",
      " |-- movieId: integer (nullable = true)\n",
      " |-- tag: string (nullable = true)\n",
      " |-- timestamp: integer (nullable = true)\n",
      "\n"
     ]
    }
   ],
   "source": [
    "from pyspark.sql import SparkSession\n",
    "from pyspark.sql.functions import *\n",
    "from datetime import datetime\n",
    "from pyspark.sql import functions as F\n",
    "from pyspark.sql.window import Window\n",
    "import pyspark.sql.functions as func\n",
    "from pyspark.sql.functions import col\n",
    "from pyspark.sql import Window\n",
    "\n",
    "\n",
    "# Initialize SparkSession\n",
    "spark = SparkSession.builder.appName(\"Final_Project\").getOrCreate()\n",
    "\n",
    "# Read the files\n",
    "movies_path  = \"movies.csv\"\n",
    "ratings_path = \"ratings.csv\"\n",
    "tags_path = \"tags.csv\"\n",
    "\n",
    "movie_dataset = spark.read.csv(movies_path, header=True, inferSchema=True)\n",
    "ratings_dataset = spark.read.csv(ratings_path, header=True, inferSchema=True)\n",
    "tags_dataset = spark.read.csv(tags_path, header=True, inferSchema=True)\n",
    "\n",
    "movie_dataset.printSchema()\n",
    "ratings_dataset.printSchema()\n",
    "tags_dataset.printSchema()\n",
    "\n"
   ]
  },
  {
   "cell_type": "code",
   "execution_count": 22,
   "id": "18d35b99",
   "metadata": {},
   "outputs": [
    {
     "name": "stdout",
     "output_type": "stream",
     "text": [
      "+-------+--------------------+--------------------+------+-------+------+---------+\n",
      "|movieId|               title|              genres|userId|movieId|rating|timestamp|\n",
      "+-------+--------------------+--------------------+------+-------+------+---------+\n",
      "|    101|Bottle Rocket (1996)|Adventure|Comedy|...|     1|    101|   5.0|964980868|\n",
      "|    216|Billy Madison (1995)|              Comedy|     1|    216|   5.0|964981208|\n",
      "|    151|      Rob Roy (1995)|Action|Drama|Roma...|     1|    151|   5.0|964984041|\n",
      "|    157|Canadian Bacon (1...|          Comedy|War|     1|    157|   5.0|964984100|\n",
      "|     47|Seven (a.k.a. Se7...|    Mystery|Thriller|     1|     47|   5.0|964983815|\n",
      "+-------+--------------------+--------------------+------+-------+------+---------+\n",
      "only showing top 5 rows\n",
      "\n"
     ]
    }
   ],
   "source": [
    "#Q1: Extract the most rated top 5 movies?\n",
    "\n",
    "print(\"Extract the most rated top 5 movies?\")\n",
    "\n",
    "movie_dataset.join(ratings_dataset,movie_dataset.movieId ==  ratings_dataset.movieId,\"inner\").sort(ratings_dataset.rating.desc()).show(5)\n",
    "\n"
   ]
  },
  {
   "cell_type": "code",
   "execution_count": 23,
   "id": "afc56294",
   "metadata": {},
   "outputs": [
    {
     "name": "stdout",
     "output_type": "stream",
     "text": [
      "+-----------------+-----+\n",
      "|              tag|count|\n",
      "+-----------------+-----+\n",
      "| In Netflix queue|  131|\n",
      "|      atmospheric|   36|\n",
      "|thought-provoking|   24|\n",
      "|        superhero|   24|\n",
      "|          surreal|   23|\n",
      "+-----------------+-----+\n",
      "only showing top 5 rows\n",
      "\n"
     ]
    }
   ],
   "source": [
    "#Q2: Specify the number of movies according to the tags?\n",
    "\n",
    "print(\"Specify the number of movies according to the tags?\")\n",
    "movie_dataset.join(tags_dataset,movie_dataset.movieId ==  tags_dataset.movieId,\"inner\").groupBy(\"tag\").count().sort(col(\"count\").desc()).show(5)"
   ]
  },
  {
   "cell_type": "code",
   "execution_count": 38,
   "id": "b19e6c55",
   "metadata": {},
   "outputs": [
    {
     "name": "stdout",
     "output_type": "stream",
     "text": [
      "+-------+--------------------+--------------------+------+-------+------+----------+\n",
      "|movieId|               title|              genres|userId|movieId|   tag| timestamp|\n",
      "+-------+--------------------+--------------------+------+-------+------+----------+\n",
      "| 148626|Big Short, The (2...|               Drama|   567| 148626| funny|1525287708|\n",
      "| 101142|  Croods, The (2013)|Adventure|Animati...|   119| 101142| funny|1436563067|\n",
      "| 167746|The Lego Batman M...|Action|Animation|...|   567| 167746| funny|1525285825|\n",
      "|  79132|    Inception (2010)|Action|Crime|Dram...|   424|  79132|action|1457844927|\n",
      "|   3793|        X-Men (2000)|Action|Adventure|...|   184|   3793|action|1537094381|\n",
      "|   2959|   Fight Club (1999)|Action|Crime|Dram...|   599|   2959|action|1498456930|\n",
      "|  99114|Django Unchained ...|Action|Drama|Western|    62|  99114| funny|1526078778|\n",
      "| 183611|   Game Night (2018)|Action|Comedy|Cri...|    62| 183611| funny|1526244688|\n",
      "| 168248|John Wick: Chapte...|Action|Crime|Thri...|    62| 168248|action|1528152295|\n",
      "|    296| Pulp Fiction (1994)|Comedy|Crime|Dram...|   599|    296| funny|1498456383|\n",
      "| 114180|Maze Runner, The ...|Action|Mystery|Sc...|    62| 114180|action|1525554460|\n",
      "|   3114|  Toy Story 2 (1999)|Adventure|Animati...|    62|   3114| funny|1525636913|\n",
      "|  69122|Hangover, The (2009)|        Comedy|Crime|   537|  69122| funny|1424140317|\n",
      "|  68848|Brothers Bloom, T...|Adventure|Comedy|...|    62|  68848| funny|1527274322|\n",
      "|   1200|       Aliens (1986)|Action|Adventure|...|   424|   1200|action|1457901258|\n",
      "|   1732|Big Lebowski, The...|        Comedy|Crime|   599|   1732| funny|1498456291|\n",
      "| 136864|Batman v Superman...|Action|Adventure|...|    62| 136864|action|1525555242|\n",
      "| 120635|      Taken 3 (2015)|Action|Crime|Thri...|   119| 120635|action|1438439306|\n",
      "| 119141|The Interview (2014)|       Action|Comedy|    62| 119141| funny|1525555129|\n",
      "|    260|Star Wars: Episod...|Action|Adventure|...|    76|    260|action|1439165594|\n",
      "+-------+--------------------+--------------------+------+-------+------+----------+\n",
      "only showing top 20 rows\n",
      "\n"
     ]
    }
   ],
   "source": [
    "# Q3: Categorize all funny and actions movies?\n",
    "\n",
    "print(\"Categorize all funny and actions movies?\")\n",
    "movie_dataset.join(tags_dataset,movie_dataset.movieId ==  tags_dataset.movieId,\"inner\").filter((tags_dataset.tag == \"action\") | (tags_dataset.tag == \"funny\")).dropDuplicates(['movieId']).show()"
   ]
  },
  {
   "cell_type": "code",
   "execution_count": 48,
   "id": "52e33db3",
   "metadata": {},
   "outputs": [
    {
     "name": "stdout",
     "output_type": "stream",
     "text": [
      "+-------+--------------------+--------------------+------+-------+------+----------+-----+\n",
      "|movieId|               title|              genres|userId|movieId|rating| timestamp|count|\n",
      "+-------+--------------------+--------------------+------+-------+------+----------+-----+\n",
      "|  26587|Decalogue, The (D...| Crime|Drama|Romance|   105|  26587|   5.0|1446573090|13211|\n",
      "| 128087|Trinity and Sarta...|      Comedy|Western|    89| 128087|   5.0|1520409504|13211|\n",
      "|     53|     Lamerica (1994)|     Adventure|Drama|    85|     53|   5.0| 889468268|13211|\n",
      "| 163112|Winnie the Pooh G...|           Animation|   105| 163112|   5.0|1526207523|13211|\n",
      "|  90943|Into the Abyss (2...|         Documentary|   419|  90943|   5.0|1372972779|13211|\n",
      "|   4116|Hollywood Shuffle...|              Comedy|   275|   4116|   5.0|1049076933|13211|\n",
      "|  86668|Louis Theroux: La...|         Documentary|   419|  86668|   5.0|1321854735|13211|\n",
      "|   4135|Monster Squad, Th...|Adventure|Comedy|...|   562|   4135|   5.0|1368896069|13211|\n",
      "|  82744|       Faster (2010)|  Action|Crime|Drama|   380|  82744|   5.0|1493421507|13211|\n",
      "|   6192|Open Hearts (Elsk...|             Romance|   182|   6192|   5.0|1063274731|13211|\n",
      "| 172705|Tickling Giants (...|         Documentary|   184| 172705|   5.0|1537107906|13211|\n",
      "| 179135|Blue Planet II (2...|         Documentary|   318| 179135|   5.0|1533931830|13211|\n",
      "| 172585|Karlson Returns (...|Adventure|Animati...|   105| 172585|   5.0|1526207575|13211|\n",
      "| 163386|Winnie the Pooh a...|           Animation|   105| 163386|   5.0|1526207543|13211|\n",
      "|   6408|Animals are Beaut...|  Comedy|Documentary|   398|   6408|   5.0|1311207819|13211|\n",
      "|   7815| True Stories (1986)|      Comedy|Musical|   260|   7815|   5.0|1109410367|13211|\n",
      "|   6818|Come and See (Idi...|           Drama|War|   305|   6818|   5.0|1516132019|13211|\n",
      "| 134796|  Bitter Lake (2015)|         Documentary|   318| 134796|   5.0|1446924961|13211|\n",
      "| 142020|        Oscar (1967)|              Comedy|   105| 142020|   5.0|1526207094|13211|\n",
      "|  42556|7 Faces of Dr. La...|Fantasy|Mystery|W...|   377|  42556|   5.0|1340342545|13211|\n",
      "+-------+--------------------+--------------------+------+-------+------+----------+-----+\n",
      "only showing top 20 rows\n",
      "\n"
     ]
    }
   ],
   "source": [
    "# Q4: Find the top-rated movie according to genres?\n",
    "\n",
    "print(\"Find the top-rated movie according to genres?\")\n",
    "title_w = Window.partitionBy(\"rating\")\n",
    "movie_dataset.join(ratings_dataset,movie_dataset.movieId ==  ratings_dataset.movieId,\"inner\").withColumn(\"count\", F.count(\"genres\").over(title_w)).dropDuplicates(['movieId']).orderBy(col(\"rating\").desc()).show()"
   ]
  },
  {
   "cell_type": "code",
   "execution_count": 121,
   "id": "ec5971e8",
   "metadata": {},
   "outputs": [
    {
     "name": "stdout",
     "output_type": "stream",
     "text": [
      "+-------+--------------------+--------------------+---------------+------+------------+--------+\n",
      "|movieId|               title|              genres|ratings_movieId|rating|tags_movieId|     tag|\n",
      "+-------+--------------------+--------------------+---------------+------+------------+--------+\n",
      "|   7361|Eternal Sunshine ...|Drama|Romance|Sci-Fi|           7361|   5.0|        7361|romantic|\n",
      "|   4144|In the Mood For L...|       Drama|Romance|           4144|   5.0|        4144|romantic|\n",
      "+-------+--------------------+--------------------+---------------+------+------------+--------+\n",
      "\n"
     ]
    }
   ],
   "source": [
    "# Q5: The most romantic movie according to ratings?\n",
    "\n",
    "print(\"The most romantic movie according to ratings?\")\n",
    "\n",
    "ratings_data = ratings_dataset.selectExpr(\"movieId as ratings_movieId\", \"rating\")\n",
    "tags_data = tags_dataset.selectExpr(\"movieId as tags_movieId\", \"tag\")\n",
    "movie_rating_join = movie_dataset.join(ratings_data, ratings_data.ratings_movieId == movie_dataset.movieId, \"inner\")\n",
    "tag_rating_join = movie_rating_join.join(tags_data,movie_rating_join.movieId ==  tags_data.tags_movieId,\"inner\")\n",
    "tag_rating_join.filter( col(\"tag\") == \"romantic\").sort(movie_rating_join.rating.desc()).dropDuplicates(['title']).show()"
   ]
  },
  {
   "cell_type": "code",
   "execution_count": null,
   "id": "bcc83c4d",
   "metadata": {},
   "outputs": [],
   "source": []
  }
 ],
 "metadata": {
  "kernelspec": {
   "display_name": "Python 3 (ipykernel)",
   "language": "python",
   "name": "python3"
  },
  "language_info": {
   "codemirror_mode": {
    "name": "ipython",
    "version": 3
   },
   "file_extension": ".py",
   "mimetype": "text/x-python",
   "name": "python",
   "nbconvert_exporter": "python",
   "pygments_lexer": "ipython3",
   "version": "3.9.7"
  }
 },
 "nbformat": 4,
 "nbformat_minor": 5
}
